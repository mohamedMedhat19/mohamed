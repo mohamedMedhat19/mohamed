{
    "cells": [
        {
            "cell_type": "markdown",
            "metadata": {
                "collapsed": true
            },
            "source": "#My Jupyter Notebook on IBM Watson Studio\n\n\n"
        },
        {
            "cell_type": "markdown",
            "metadata": {},
            "source": "**Mohamed medhat**"
        },
        {
            "cell_type": "markdown",
            "metadata": {},
            "source": "*I am interested in data science because*"
        },
        {
            "cell_type": "markdown",
            "metadata": {},
            "source": "###hello"
        },
        {
            "cell_type": "code",
            "execution_count": null,
            "metadata": {},
            "outputs": [],
            "source": "print(1+1)"
        },
        {
            "cell_type": "markdown",
            "metadata": {},
            "source": "- this is mohe\n* hello\n1. mohamed \n2. medhat \n  a.mohamed\n  b.medhat\n"
        }
    ],
    "metadata": {
        "kernelspec": {
            "display_name": "Python 3.6",
            "language": "python",
            "name": "python3"
        },
        "language_info": {
            "codemirror_mode": {
                "name": "ipython",
                "version": 3
            },
            "file_extension": ".py",
            "mimetype": "text/x-python",
            "name": "python",
            "nbconvert_exporter": "python",
            "pygments_lexer": "ipython3",
            "version": "3.6.9"
        }
    },
    "nbformat": 4,
    "nbformat_minor": 1
}